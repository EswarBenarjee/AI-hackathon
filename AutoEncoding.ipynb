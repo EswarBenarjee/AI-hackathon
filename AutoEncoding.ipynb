{
 "cells": [
  {
   "cell_type": "code",
   "execution_count": 1,
   "metadata": {
    "colab": {
     "base_uri": "https://localhost:8080/"
    },
    "id": "NaqqirHhHhF9",
    "outputId": "859a2229-f46a-4fe7-ae15-280ac6af513b"
   },
   "outputs": [
    {
     "name": "stdout",
     "output_type": "stream",
     "text": [
      "Requirement already satisfied: keras-tuner in c:\\users\\eswar\\anaconda3\\lib\\site-packages (1.1.2)\n",
      "Requirement already satisfied: requests in c:\\users\\eswar\\anaconda3\\lib\\site-packages (from keras-tuner) (2.26.0)\n",
      "Requirement already satisfied: kt-legacy in c:\\users\\eswar\\anaconda3\\lib\\site-packages (from keras-tuner) (1.0.4)\n",
      "Requirement already satisfied: packaging in c:\\users\\eswar\\anaconda3\\lib\\site-packages (from keras-tuner) (21.0)\n",
      "Requirement already satisfied: numpy in c:\\users\\eswar\\anaconda3\\lib\\site-packages (from keras-tuner) (1.20.3)\n",
      "Requirement already satisfied: tensorboard in c:\\users\\eswar\\anaconda3\\lib\\site-packages (from keras-tuner) (2.8.0)\n",
      "Requirement already satisfied: ipython in c:\\users\\eswar\\anaconda3\\lib\\site-packages (from keras-tuner) (7.29.0)\n",
      "Requirement already satisfied: matplotlib-inline in c:\\users\\eswar\\anaconda3\\lib\\site-packages (from ipython->keras-tuner) (0.1.2)\n",
      "Requirement already satisfied: traitlets>=4.2 in c:\\users\\eswar\\anaconda3\\lib\\site-packages (from ipython->keras-tuner) (5.1.0)\n",
      "Requirement already satisfied: prompt-toolkit!=3.0.0,!=3.0.1,<3.1.0,>=2.0.0 in c:\\users\\eswar\\anaconda3\\lib\\site-packages (from ipython->keras-tuner) (3.0.20)\n",
      "Requirement already satisfied: colorama in c:\\users\\eswar\\anaconda3\\lib\\site-packages (from ipython->keras-tuner) (0.4.4)\n",
      "Requirement already satisfied: backcall in c:\\users\\eswar\\anaconda3\\lib\\site-packages (from ipython->keras-tuner) (0.2.0)\n",
      "Requirement already satisfied: setuptools>=18.5 in c:\\users\\eswar\\anaconda3\\lib\\site-packages (from ipython->keras-tuner) (58.0.4)\n",
      "Requirement already satisfied: jedi>=0.16 in c:\\users\\eswar\\anaconda3\\lib\\site-packages (from ipython->keras-tuner) (0.18.0)\n",
      "Requirement already satisfied: pygments in c:\\users\\eswar\\anaconda3\\lib\\site-packages (from ipython->keras-tuner) (2.10.0)\n",
      "Requirement already satisfied: pickleshare in c:\\users\\eswar\\anaconda3\\lib\\site-packages (from ipython->keras-tuner) (0.7.5)\n",
      "Requirement already satisfied: decorator in c:\\users\\eswar\\anaconda3\\lib\\site-packages (from ipython->keras-tuner) (4.0.11)\n",
      "Requirement already satisfied: parso<0.9.0,>=0.8.0 in c:\\users\\eswar\\anaconda3\\lib\\site-packages (from jedi>=0.16->ipython->keras-tuner) (0.8.2)\n",
      "Requirement already satisfied: wcwidth in c:\\users\\eswar\\anaconda3\\lib\\site-packages (from prompt-toolkit!=3.0.0,!=3.0.1,<3.1.0,>=2.0.0->ipython->keras-tuner) (0.2.5)\n",
      "Requirement already satisfied: pyparsing>=2.0.2 in c:\\users\\eswar\\anaconda3\\lib\\site-packages (from packaging->keras-tuner) (3.0.4)\n",
      "Requirement already satisfied: idna<4,>=2.5 in c:\\users\\eswar\\anaconda3\\lib\\site-packages (from requests->keras-tuner) (3.2)\n",
      "Requirement already satisfied: certifi>=2017.4.17 in c:\\users\\eswar\\anaconda3\\lib\\site-packages (from requests->keras-tuner) (2021.10.8)\n",
      "Requirement already satisfied: urllib3<1.27,>=1.21.1 in c:\\users\\eswar\\anaconda3\\lib\\site-packages (from requests->keras-tuner) (1.26.7)\n",
      "Requirement already satisfied: charset-normalizer~=2.0.0 in c:\\users\\eswar\\anaconda3\\lib\\site-packages (from requests->keras-tuner) (2.0.4)\n",
      "Requirement already satisfied: tensorboard-data-server<0.7.0,>=0.6.0 in c:\\users\\eswar\\anaconda3\\lib\\site-packages (from tensorboard->keras-tuner) (0.6.1)\n",
      "Requirement already satisfied: grpcio>=1.24.3 in c:\\users\\eswar\\anaconda3\\lib\\site-packages (from tensorboard->keras-tuner) (1.43.0)\n",
      "Requirement already satisfied: google-auth<3,>=1.6.3 in c:\\users\\eswar\\anaconda3\\lib\\site-packages (from tensorboard->keras-tuner) (2.6.0)\n",
      "Requirement already satisfied: wheel>=0.26 in c:\\users\\eswar\\anaconda3\\lib\\site-packages (from tensorboard->keras-tuner) (0.37.0)\n",
      "Requirement already satisfied: google-auth-oauthlib<0.5,>=0.4.1 in c:\\users\\eswar\\anaconda3\\lib\\site-packages (from tensorboard->keras-tuner) (0.4.6)\n",
      "Requirement already satisfied: werkzeug>=0.11.15 in c:\\users\\eswar\\anaconda3\\lib\\site-packages (from tensorboard->keras-tuner) (0.16.0)\n",
      "Requirement already satisfied: absl-py>=0.4 in c:\\users\\eswar\\anaconda3\\lib\\site-packages (from tensorboard->keras-tuner) (1.0.0)\n",
      "Requirement already satisfied: protobuf>=3.6.0 in c:\\users\\eswar\\anaconda3\\lib\\site-packages (from tensorboard->keras-tuner) (3.19.4)\n",
      "Requirement already satisfied: tensorboard-plugin-wit>=1.6.0 in c:\\users\\eswar\\anaconda3\\lib\\site-packages (from tensorboard->keras-tuner) (1.8.1)\n",
      "Requirement already satisfied: markdown>=2.6.8 in c:\\users\\eswar\\anaconda3\\lib\\site-packages (from tensorboard->keras-tuner) (3.3.6)\n",
      "Requirement already satisfied: six in c:\\users\\eswar\\anaconda3\\lib\\site-packages (from absl-py>=0.4->tensorboard->keras-tuner) (1.16.0)\n",
      "Requirement already satisfied: cachetools<6.0,>=2.0.0 in c:\\users\\eswar\\anaconda3\\lib\\site-packages (from google-auth<3,>=1.6.3->tensorboard->keras-tuner) (5.0.0)\n",
      "Requirement already satisfied: pyasn1-modules>=0.2.1 in c:\\users\\eswar\\anaconda3\\lib\\site-packages (from google-auth<3,>=1.6.3->tensorboard->keras-tuner) (0.2.8)\n",
      "Requirement already satisfied: rsa<5,>=3.1.4 in c:\\users\\eswar\\anaconda3\\lib\\site-packages (from google-auth<3,>=1.6.3->tensorboard->keras-tuner) (4.8)\n",
      "Requirement already satisfied: requests-oauthlib>=0.7.0 in c:\\users\\eswar\\anaconda3\\lib\\site-packages (from google-auth-oauthlib<0.5,>=0.4.1->tensorboard->keras-tuner) (1.3.1)\n",
      "Requirement already satisfied: importlib-metadata>=4.4 in c:\\users\\eswar\\anaconda3\\lib\\site-packages (from markdown>=2.6.8->tensorboard->keras-tuner) (4.8.1)\n",
      "Requirement already satisfied: zipp>=0.5 in c:\\users\\eswar\\anaconda3\\lib\\site-packages (from importlib-metadata>=4.4->markdown>=2.6.8->tensorboard->keras-tuner) (3.6.0)\n",
      "Requirement already satisfied: pyasn1<0.5.0,>=0.4.6 in c:\\users\\eswar\\anaconda3\\lib\\site-packages (from pyasn1-modules>=0.2.1->google-auth<3,>=1.6.3->tensorboard->keras-tuner) (0.4.8)\n",
      "Requirement already satisfied: oauthlib>=3.0.0 in c:\\users\\eswar\\anaconda3\\lib\\site-packages (from requests-oauthlib>=0.7.0->google-auth-oauthlib<0.5,>=0.4.1->tensorboard->keras-tuner) (3.2.0)\n"
     ]
    }
   ],
   "source": [
    "!pip install keras-tuner --upgrade"
   ]
  },
  {
   "cell_type": "code",
   "execution_count": 2,
   "metadata": {
    "colab": {
     "base_uri": "https://localhost:8080/"
    },
    "id": "rtz-Mq1xc84y",
    "outputId": "923d2518-03e9-44bb-80c7-c58302711ab4"
   },
   "outputs": [
    {
     "name": "stdout",
     "output_type": "stream",
     "text": [
      "2.8.0\n"
     ]
    }
   ],
   "source": [
    "import tensorflow\n",
    "print(tensorflow.__version__)"
   ]
  },
  {
   "cell_type": "code",
   "execution_count": null,
   "metadata": {
    "colab": {
     "base_uri": "https://localhost:8080/"
    },
    "id": "cn5bTV225yNM",
    "outputId": "d81fc536-e0af-4700-d52d-444cb88a68f5"
   },
   "outputs": [],
   "source": [
    "!pip uninstall tensorflow"
   ]
  },
  {
   "cell_type": "code",
   "execution_count": null,
   "metadata": {
    "colab": {
     "base_uri": "https://localhost:8080/",
     "height": 1000
    },
    "id": "vxkD2tNR6Ci8",
    "outputId": "45d0dd92-bd68-439d-83b5-22e6c8f483ed"
   },
   "outputs": [],
   "source": [
    "!pip install tensorflow==2.7.0"
   ]
  },
  {
   "cell_type": "markdown",
   "metadata": {
    "id": "aVQm15QIOAkg"
   },
   "source": [
    "# Auto encoding"
   ]
  },
  {
   "cell_type": "code",
   "execution_count": 5,
   "metadata": {
    "id": "iaSIRSer9dNw"
   },
   "outputs": [],
   "source": [
    "import math\n",
    "import pandas as pd\n",
    "import tensorflow as tf\n",
    "import keras_tuner as kt\n",
    "import matplotlib.pyplot as plt\n",
    "from tensorflow.keras import Model\n",
    "from tensorflow.keras import Sequential\n",
    "from sklearn.preprocessing import StandardScaler\n",
    "from tensorflow.keras.layers import Dense, Dropout\n",
    "from sklearn.model_selection import train_test_split\n",
    "from tensorflow.keras.losses import MeanSquaredLogarithmicError\n",
    "from sklearn.model_selection import train_test_split\n",
    "\n",
    "# data in google colab\n",
    "\n",
    "path = \"/content/my_data.csv\"\n",
    "\n",
    "df = pd.read_csv(path)"
   ]
  },
  {
   "cell_type": "code",
   "execution_count": 23,
   "metadata": {
    "colab": {
     "base_uri": "https://localhost:8080/"
    },
    "id": "u4krfw1GioLT",
    "outputId": "1fc3a411-836c-408a-db6e-c88fbaebd7f1"
   },
   "outputs": [
    {
     "name": "stdout",
     "output_type": "stream",
     "text": [
      "Epoch 1/50\n",
      "2/2 [==============================] - 1s 10ms/step - loss: -90.6042\n",
      "Epoch 2/50\n",
      "2/2 [==============================] - 0s 11ms/step - loss: -90.6144\n",
      "Epoch 3/50\n",
      "2/2 [==============================] - 0s 6ms/step - loss: -90.6248\n",
      "Epoch 4/50\n",
      "2/2 [==============================] - 0s 9ms/step - loss: -90.6353\n",
      "Epoch 5/50\n",
      "2/2 [==============================] - 0s 9ms/step - loss: -90.6459\n",
      "Epoch 6/50\n",
      "2/2 [==============================] - 0s 6ms/step - loss: -90.6565\n",
      "Epoch 7/50\n",
      "2/2 [==============================] - 0s 10ms/step - loss: -90.6673\n",
      "Epoch 8/50\n",
      "2/2 [==============================] - 0s 6ms/step - loss: -90.6781\n",
      "Epoch 9/50\n",
      "2/2 [==============================] - 0s 6ms/step - loss: -90.6889\n",
      "Epoch 10/50\n",
      "2/2 [==============================] - 0s 7ms/step - loss: -90.6997\n",
      "Epoch 11/50\n",
      "2/2 [==============================] - 0s 11ms/step - loss: -90.7107\n",
      "Epoch 12/50\n",
      "2/2 [==============================] - 0s 5ms/step - loss: -90.7216\n",
      "Epoch 13/50\n",
      "2/2 [==============================] - 0s 6ms/step - loss: -90.7326\n",
      "Epoch 14/50\n",
      "2/2 [==============================] - 0s 6ms/step - loss: -90.7436\n",
      "Epoch 15/50\n",
      "2/2 [==============================] - 0s 11ms/step - loss: -90.7546\n",
      "Epoch 16/50\n",
      "2/2 [==============================] - 0s 8ms/step - loss: -90.7656\n",
      "Epoch 17/50\n",
      "2/2 [==============================] - 0s 5ms/step - loss: -90.7767\n",
      "Epoch 18/50\n",
      "2/2 [==============================] - 0s 11ms/step - loss: -90.7878\n",
      "Epoch 19/50\n",
      "2/2 [==============================] - 0s 8ms/step - loss: -90.7990\n",
      "Epoch 20/50\n",
      "2/2 [==============================] - 0s 6ms/step - loss: -90.8101\n",
      "Epoch 21/50\n",
      "2/2 [==============================] - 0s 5ms/step - loss: -90.8213\n",
      "Epoch 22/50\n",
      "2/2 [==============================] - 0s 7ms/step - loss: -90.8325\n",
      "Epoch 23/50\n",
      "2/2 [==============================] - 0s 6ms/step - loss: -90.8438\n",
      "Epoch 24/50\n",
      "2/2 [==============================] - 0s 7ms/step - loss: -90.8550\n",
      "Epoch 25/50\n",
      "2/2 [==============================] - 0s 4ms/step - loss: -90.8663\n",
      "Epoch 26/50\n",
      "2/2 [==============================] - 0s 4ms/step - loss: -90.8776\n",
      "Epoch 27/50\n",
      "2/2 [==============================] - 0s 7ms/step - loss: -90.8889\n",
      "Epoch 28/50\n",
      "2/2 [==============================] - 0s 10ms/step - loss: -90.9004\n",
      "Epoch 29/50\n",
      "2/2 [==============================] - 0s 6ms/step - loss: -90.9119\n",
      "Epoch 30/50\n",
      "2/2 [==============================] - 0s 8ms/step - loss: -90.9235\n",
      "Epoch 31/50\n",
      "2/2 [==============================] - 0s 5ms/step - loss: -90.9350\n",
      "Epoch 32/50\n",
      "2/2 [==============================] - 0s 5ms/step - loss: -90.9465\n",
      "Epoch 33/50\n",
      "2/2 [==============================] - 0s 11ms/step - loss: -90.9580\n",
      "Epoch 34/50\n",
      "2/2 [==============================] - 0s 5ms/step - loss: -90.9696\n",
      "Epoch 35/50\n",
      "2/2 [==============================] - 0s 8ms/step - loss: -90.9812\n",
      "Epoch 36/50\n",
      "2/2 [==============================] - 0s 8ms/step - loss: -90.9929\n",
      "Epoch 37/50\n",
      "2/2 [==============================] - 0s 7ms/step - loss: -91.0045\n",
      "Epoch 38/50\n",
      "2/2 [==============================] - 0s 5ms/step - loss: -91.0162\n",
      "Epoch 39/50\n",
      "2/2 [==============================] - 0s 7ms/step - loss: -91.0280\n",
      "Epoch 40/50\n",
      "2/2 [==============================] - 0s 6ms/step - loss: -91.0397\n",
      "Epoch 41/50\n",
      "2/2 [==============================] - 0s 10ms/step - loss: -91.0515\n",
      "Epoch 42/50\n",
      "2/2 [==============================] - 0s 5ms/step - loss: -91.0633\n",
      "Epoch 43/50\n",
      "2/2 [==============================] - 0s 10ms/step - loss: -91.0751\n",
      "Epoch 44/50\n",
      "2/2 [==============================] - 0s 8ms/step - loss: -91.0870\n",
      "Epoch 45/50\n",
      "2/2 [==============================] - 0s 8ms/step - loss: -91.0989\n",
      "Epoch 46/50\n",
      "2/2 [==============================] - 0s 12ms/step - loss: -91.1108\n",
      "Epoch 47/50\n",
      "2/2 [==============================] - 0s 18ms/step - loss: -91.1226\n",
      "Epoch 48/50\n",
      "2/2 [==============================] - 0s 4ms/step - loss: -91.1345\n",
      "Epoch 49/50\n",
      "2/2 [==============================] - 0s 11ms/step - loss: -91.1464\n",
      "Epoch 50/50\n",
      "2/2 [==============================] - 0s 5ms/step - loss: -91.1584\n",
      "Model: \"model_17\"\n",
      "_________________________________________________________________\n",
      " Layer (type)                Output Shape              Param #   \n",
      "=================================================================\n",
      " input_6 (InputLayer)        [(None, 14)]              0         \n",
      "                                                                 \n",
      " dense_10 (Dense)            (None, 2)                 30        \n",
      "                                                                 \n",
      " dense_11 (Dense)            (None, 14)                42        \n",
      "                                                                 \n",
      "=================================================================\n",
      "Total params: 72\n",
      "Trainable params: 72\n",
      "Non-trainable params: 0\n",
      "_________________________________________________________________\n"
     ]
    }
   ],
   "source": [
    "from keras.layers import Input,Dense\n",
    "from keras.models import Model\n",
    "\n",
    "# number of neurons in the encoding hidden layer\n",
    "encoding_dim = 2\n",
    "# input placeholder\n",
    "input_data = Input(shape=(14,)) # 6 is the number of features/columns\n",
    "# encoder is the encoded representation of the input\n",
    "encoded = Dense(encoding_dim, activation ='relu')(input_data)\n",
    "# decoder is the lossy reconstruction of the input\n",
    "decoded = Dense(14, activation ='sigmoid')(encoded) # 6 again number of features and should match input_data\n",
    "\n",
    "\n",
    "# this model maps an input to its reconstruction\n",
    "autoencoder = Model(input_data, decoded)\n",
    "\n",
    "# this model maps an input to its encoded representation\n",
    "encoder = Model(input_data, encoded)\n",
    "# model optimizer and loss\n",
    "autoencoder = Model(input_data, decoded)\n",
    "\n",
    "# loss function and optimizer\n",
    "autoencoder.compile(optimizer='adadelta', loss='binary_crossentropy')\n",
    "\n",
    "# train test split\n",
    "from sklearn.model_selection import train_test_split\n",
    "x_train, x_test, = train_test_split(df, test_size=0.1, random_state=42)\n",
    "\n",
    "\n",
    "# train the model\n",
    "autoencoder.fit(x_train,\n",
    "                x_train,\n",
    "                epochs=50,\n",
    "                batch_size=256,\n",
    "                shuffle=True)\n",
    "\n",
    "autoencoder.summary()\n",
    "\n",
    "# predict after training\n",
    "# note that we take them from the *test* set\n",
    "encoded_data = encoder.predict(df)"
   ]
  },
  {
   "cell_type": "code",
   "execution_count": 25,
   "metadata": {
    "colab": {
     "base_uri": "https://localhost:8080/"
    },
    "id": "Xl4luCExDQoS",
    "outputId": "828e88cf-0dfc-4a0d-f88b-6576fd20587c"
   },
   "outputs": [
    {
     "name": "stdout",
     "output_type": "stream",
     "text": [
      "0      25.284712\n",
      "1      45.692413\n",
      "2      38.582455\n",
      "3      47.441784\n",
      "4      49.723186\n",
      "         ...    \n",
      "501    27.066101\n",
      "502    30.103241\n",
      "503    29.365582\n",
      "504    28.329155\n",
      "505    30.863956\n",
      "Name: feature_1, Length: 506, dtype: float32\n"
     ]
    }
   ],
   "source": [
    "reduced_df = pd.DataFrame(encoded_data)\n",
    "reduced_df = reduced_df.add_prefix('feature_')\n",
    "print(reduced_df.iloc[:, 1])"
   ]
  }
 ],
 "metadata": {
  "colab": {
   "collapsed_sections": [
    "bnczSonXOFia"
   ],
   "name": "Untitled4.ipynb",
   "provenance": []
  },
  "kernelspec": {
   "display_name": "Python 3 (ipykernel)",
   "language": "python",
   "name": "python3"
  },
  "language_info": {
   "codemirror_mode": {
    "name": "ipython",
    "version": 3
   },
   "file_extension": ".py",
   "mimetype": "text/x-python",
   "name": "python",
   "nbconvert_exporter": "python",
   "pygments_lexer": "ipython3",
   "version": "3.9.7"
  }
 },
 "nbformat": 4,
 "nbformat_minor": 1
}
